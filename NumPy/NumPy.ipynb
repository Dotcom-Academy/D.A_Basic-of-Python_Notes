{
 "cells": [
  {
   "cell_type": "markdown",
   "id": "f9480c92",
   "metadata": {},
   "source": [
    "# Introduction to Numpy"
   ]
  },
  {
   "cell_type": "code",
   "execution_count": 5,
   "id": "1753ac8d",
   "metadata": {},
   "outputs": [],
   "source": [
    "import numpy as np"
   ]
  },
  {
   "cell_type": "markdown",
   "id": "b0c9e77b",
   "metadata": {},
   "source": [
    "## 1-D Array"
   ]
  },
  {
   "cell_type": "code",
   "execution_count": 12,
   "id": "f9976c75",
   "metadata": {},
   "outputs": [
    {
     "name": "stdout",
     "output_type": "stream",
     "text": [
      "<class 'list'>\n"
     ]
    },
    {
     "data": {
      "text/plain": [
       "[1, 2, 3, 5, 8, 11, 22, 88, 45]"
      ]
     },
     "execution_count": 12,
     "metadata": {},
     "output_type": "execute_result"
    }
   ],
   "source": [
    "lst=[1,2,3,5,8,11,22,88,45]\n",
    "print(type(lst))\n",
    "lst"
   ]
  },
  {
   "cell_type": "code",
   "execution_count": 15,
   "id": "99e23054",
   "metadata": {},
   "outputs": [
    {
     "name": "stdout",
     "output_type": "stream",
     "text": [
      "<class 'numpy.ndarray'>\n",
      "[ 1  2  3  5  8 11 22 88 45]\n",
      "1\n",
      "2\n",
      "3\n",
      "5\n",
      "8\n",
      "11\n",
      "22\n",
      "88\n",
      "45\n"
     ]
    }
   ],
   "source": [
    "np_lst = np.array(lst)\n",
    "print(type(np_lst))\n",
    "print(np_lst)\n",
    "\n",
    "for i in np_lst:\n",
    "    print(i)"
   ]
  },
  {
   "cell_type": "markdown",
   "id": "76cf5e43",
   "metadata": {},
   "source": [
    "### insert value"
   ]
  },
  {
   "cell_type": "code",
   "execution_count": 18,
   "id": "bc979840",
   "metadata": {},
   "outputs": [
    {
     "name": "stdout",
     "output_type": "stream",
     "text": [
      "[ 1  2  3 90  5  8 11 22 88 45]\n"
     ]
    }
   ],
   "source": [
    "n= np.insert(np_lst,3,90)\n",
    "print(n)"
   ]
  },
  {
   "cell_type": "markdown",
   "id": "b41e39c9",
   "metadata": {},
   "source": [
    "### append value"
   ]
  },
  {
   "cell_type": "code",
   "execution_count": 27,
   "id": "d044d45b",
   "metadata": {},
   "outputs": [
    {
     "name": "stdout",
     "output_type": "stream",
     "text": [
      "[  1   2   3  90   5   8  11  22  88  45  50 456  89]\n"
     ]
    }
   ],
   "source": [
    "n1 = np.append(n,[50,456,89])\n",
    "print(n1)"
   ]
  },
  {
   "cell_type": "markdown",
   "id": "edb6b607",
   "metadata": {},
   "source": [
    "### delete value"
   ]
  },
  {
   "cell_type": "code",
   "execution_count": 36,
   "id": "66665f9b",
   "metadata": {},
   "outputs": [
    {
     "name": "stdout",
     "output_type": "stream",
     "text": [
      "[  1   2   3  90   5   8  11  22  88  50 456  89]\n"
     ]
    }
   ],
   "source": [
    "n2 = np.delete(n1,9)\n",
    "print(n2)"
   ]
  },
  {
   "cell_type": "markdown",
   "id": "d396e4ff",
   "metadata": {},
   "source": [
    "### generate random number"
   ]
  },
  {
   "cell_type": "code",
   "execution_count": 51,
   "id": "649f1fda",
   "metadata": {},
   "outputs": [
    {
     "name": "stdout",
     "output_type": "stream",
     "text": [
      "13\n"
     ]
    }
   ],
   "source": [
    "rand = np.random.randint(0,50)\n",
    "print(rand)"
   ]
  },
  {
   "cell_type": "markdown",
   "id": "8c785eb4",
   "metadata": {},
   "source": [
    "### create value in perticular range"
   ]
  },
  {
   "cell_type": "code",
   "execution_count": 138,
   "id": "84eb218c",
   "metadata": {},
   "outputs": [
    {
     "data": {
      "text/plain": [
       "array([ 0. ,  2.5,  5. ,  7.5, 10. ])"
      ]
     },
     "execution_count": 138,
     "metadata": {},
     "output_type": "execute_result"
    }
   ],
   "source": [
    "np.linspace(0,10,5)"
   ]
  },
  {
   "cell_type": "markdown",
   "id": "d778a562",
   "metadata": {},
   "source": [
    "### find value"
   ]
  },
  {
   "cell_type": "code",
   "execution_count": 136,
   "id": "41ef1268",
   "metadata": {},
   "outputs": [
    {
     "name": "stdout",
     "output_type": "stream",
     "text": [
      "[ 1  2  3  5  8 11 22 88 45]\n"
     ]
    },
    {
     "data": {
      "text/plain": [
       "(array([7], dtype=int64),)"
      ]
     },
     "execution_count": 136,
     "metadata": {},
     "output_type": "execute_result"
    }
   ],
   "source": [
    "print(np_lst)\n",
    "np.where(np_lst==88)\n"
   ]
  },
  {
   "cell_type": "markdown",
   "id": "ba77a51a",
   "metadata": {},
   "source": [
    "## 2D array"
   ]
  },
  {
   "cell_type": "markdown",
   "id": "451b5651",
   "metadata": {},
   "source": [
    "### shape, size"
   ]
  },
  {
   "cell_type": "code",
   "execution_count": 76,
   "id": "7bfac4ee",
   "metadata": {},
   "outputs": [
    {
     "name": "stdout",
     "output_type": "stream",
     "text": [
      "[[ 1  2  3 45]\n",
      " [ 4  5  6 78]\n",
      " [ 7  8  9 56]]\n",
      "Shape: (3, 4)\n",
      "size: 12\n"
     ]
    }
   ],
   "source": [
    "lst1 = [[1,2,3,45],\n",
    "        [4,5,6,78],\n",
    "        [7,8,9,56]]\n",
    "#print(lst1)\n",
    "nw_lst = np.array(lst1)\n",
    "print(nw_lst)\n",
    "print(\"Shape:\",nw_lst.shape)\n",
    "print(\"size:\",nw_lst.size)\n"
   ]
  },
  {
   "cell_type": "code",
   "execution_count": 77,
   "id": "f7393793",
   "metadata": {},
   "outputs": [
    {
     "name": "stdout",
     "output_type": "stream",
     "text": [
      "[[5]]\n",
      "____________\n",
      "[[ 2  3 45]\n",
      " [ 5  6 78]\n",
      " [ 8  9 56]]\n",
      "____________\n",
      "[[1 2]\n",
      " [4 5]]\n",
      "____________\n",
      "[[ 5  6 78]\n",
      " [ 8  9 56]]\n"
     ]
    }
   ],
   "source": [
    "print(nw_lst[1:2,1:2])\n",
    "print(\"____________\")\n",
    "print(nw_lst[:,1:])\n",
    "print(\"____________\")\n",
    "print(nw_lst[:2,:2])\n",
    "print(\"____________\")\n",
    "print(nw_lst[1:,1:])"
   ]
  },
  {
   "cell_type": "markdown",
   "id": "ef23134b",
   "metadata": {},
   "source": [
    "### reshape array"
   ]
  },
  {
   "cell_type": "code",
   "execution_count": 80,
   "id": "68ee4b36",
   "metadata": {},
   "outputs": [
    {
     "name": "stdout",
     "output_type": "stream",
     "text": [
      "[[ 1  2  3 45]\n",
      " [ 4  5  6 78]\n",
      " [ 7  8  9 56]]\n"
     ]
    },
    {
     "data": {
      "text/plain": [
       "array([[ 1,  2,  3],\n",
       "       [45,  4,  5],\n",
       "       [ 6, 78,  7],\n",
       "       [ 8,  9, 56]])"
      ]
     },
     "execution_count": 80,
     "metadata": {},
     "output_type": "execute_result"
    }
   ],
   "source": [
    "print(nw_lst)\n",
    "nw_lst.reshape(4,3)"
   ]
  },
  {
   "cell_type": "code",
   "execution_count": 83,
   "id": "f1ee2665",
   "metadata": {},
   "outputs": [
    {
     "data": {
      "text/plain": [
       "array([[0, 0, 0],\n",
       "       [0, 0, 0],\n",
       "       [0, 0, 0],\n",
       "       [0, 0, 0]])"
      ]
     },
     "execution_count": 83,
     "metadata": {},
     "output_type": "execute_result"
    }
   ],
   "source": [
    "np.zeros((4,3),dtype=int)"
   ]
  },
  {
   "cell_type": "code",
   "execution_count": 89,
   "id": "04d0839f",
   "metadata": {},
   "outputs": [
    {
     "data": {
      "text/plain": [
       "array([[1., 1., 1., 1., 1.],\n",
       "       [1., 1., 1., 1., 1.],\n",
       "       [1., 1., 1., 1., 1.],\n",
       "       [1., 1., 1., 1., 1.]])"
      ]
     },
     "execution_count": 89,
     "metadata": {},
     "output_type": "execute_result"
    }
   ],
   "source": [
    "np.ones((4,5),dtype=float)"
   ]
  },
  {
   "cell_type": "code",
   "execution_count": 90,
   "id": "566cceaa",
   "metadata": {},
   "outputs": [
    {
     "data": {
      "text/plain": [
       "array([[ True,  True,  True,  True,  True],\n",
       "       [ True,  True,  True,  True,  True],\n",
       "       [ True,  True,  True,  True,  True]])"
      ]
     },
     "execution_count": 90,
     "metadata": {},
     "output_type": "execute_result"
    }
   ],
   "source": [
    "np.ones((3,5),dtype=bool)"
   ]
  },
  {
   "cell_type": "markdown",
   "id": "5e832dbd",
   "metadata": {},
   "source": [
    "### array with random number"
   ]
  },
  {
   "cell_type": "code",
   "execution_count": 95,
   "id": "0471f349",
   "metadata": {},
   "outputs": [
    {
     "data": {
      "text/plain": [
       "array([[23, 13, 40],\n",
       "       [36, 35, 46],\n",
       "       [43,  1, 14],\n",
       "       [11, 33, 25]])"
      ]
     },
     "execution_count": 95,
     "metadata": {},
     "output_type": "execute_result"
    }
   ],
   "source": [
    "np.random.randint(0,50,(4,3))    #np.random.randint(range_start,range_stop,(shape_start,shape_stop))"
   ]
  },
  {
   "cell_type": "code",
   "execution_count": 101,
   "id": "15582ed6",
   "metadata": {},
   "outputs": [
    {
     "data": {
      "text/plain": [
       "array([[  1,   2,   3,  45, 100],\n",
       "       [  4,   5,   6,  78, 200],\n",
       "       [  7,   8,   9,  56, 300]])"
      ]
     },
     "execution_count": 101,
     "metadata": {},
     "output_type": "execute_result"
    }
   ],
   "source": [
    "np.append(nw_lst,[[100],[200],[300]],axis=1)"
   ]
  },
  {
   "cell_type": "code",
   "execution_count": 108,
   "id": "c774a5bd",
   "metadata": {},
   "outputs": [
    {
     "name": "stdout",
     "output_type": "stream",
     "text": [
      "[[ 1  2  3 45]\n",
      " [ 4  5  6 78]\n",
      " [ 7  8  9 56]]\n"
     ]
    },
    {
     "data": {
      "text/plain": [
       "array([[  1,   2,   3,  45],\n",
       "       [  4,   5,   6,  78],\n",
       "       [  7,   8,   9,  56],\n",
       "       [100, 200, 300, 400]])"
      ]
     },
     "execution_count": 108,
     "metadata": {},
     "output_type": "execute_result"
    }
   ],
   "source": [
    "print(nw_lst)\n",
    "np.append(nw_lst,[[100,200,300,400]],axis=0)"
   ]
  },
  {
   "cell_type": "code",
   "execution_count": 115,
   "id": "c5f1d088",
   "metadata": {},
   "outputs": [
    {
     "name": "stdout",
     "output_type": "stream",
     "text": [
      "[[ 3  4  5 47]\n",
      " [ 6  7  8 80]\n",
      " [ 9 10 11 58]]\n",
      "____________\n",
      "[[-1  0  1 43]\n",
      " [ 2  3  4 76]\n",
      " [ 5  6  7 54]]\n",
      "____________\n",
      "[[  2   4   6  90]\n",
      " [  8  10  12 156]\n",
      " [ 14  16  18 112]]\n",
      "____________\n",
      "[[ 0.5  1.   1.5 22.5]\n",
      " [ 2.   2.5  3.  39. ]\n",
      " [ 3.5  4.   4.5 28. ]]\n",
      "____________\n",
      "[[1 0 1 1]\n",
      " [0 1 0 0]\n",
      " [1 0 1 0]]\n"
     ]
    }
   ],
   "source": [
    "print(nw_lst+2)\n",
    "print(\"____________\")\n",
    "print(nw_lst-2)\n",
    "print(\"____________\")\n",
    "print(nw_lst*2)\n",
    "print(\"____________\")\n",
    "print(nw_lst/2)\n",
    "print(\"____________\")\n",
    "print(nw_lst%2)"
   ]
  },
  {
   "cell_type": "markdown",
   "id": "0e56d7b9",
   "metadata": {},
   "source": [
    "### Using Matrix"
   ]
  },
  {
   "cell_type": "code",
   "execution_count": 137,
   "id": "808c1a7f",
   "metadata": {
    "scrolled": true
   },
   "outputs": [
    {
     "name": "stdout",
     "output_type": "stream",
     "text": [
      "[[ 1  2  3  4]\n",
      " [ 5  6  7  8]\n",
      " [ 9 10 11 12]]\n",
      "__________\n",
      "[[ 1  2  3 45]\n",
      " [ 4  5  6 78]\n",
      " [ 7  8  9 56]]\n",
      "__________\n",
      "\n",
      "[[  1   4   9 180]\n",
      " [ 20  30  42 624]\n",
      " [ 63  80  99 672]]\n",
      "<><><><><><<><><><><><\n",
      "[[ 2  4  6 49]\n",
      " [ 9 11 13 86]\n",
      " [16 18 20 68]]\n"
     ]
    }
   ],
   "source": [
    "tem = np.array([[1,2,3,4],[5,6,7,8],[9,10,11,12]])\n",
    "print(tem)\n",
    "print(\"__________\")\n",
    "print(nw_lst)\n",
    "print(\"__________\\n\")\n",
    "\n",
    "\n",
    "print(tem * nw_lst)\n",
    "print(\"<><><><><><<><><><><><\")\n",
    "print(tem + nw_lst)"
   ]
  }
 ],
 "metadata": {
  "kernelspec": {
   "display_name": "Python 3 (ipykernel)",
   "language": "python",
   "name": "python3"
  },
  "language_info": {
   "codemirror_mode": {
    "name": "ipython",
    "version": 3
   },
   "file_extension": ".py",
   "mimetype": "text/x-python",
   "name": "python",
   "nbconvert_exporter": "python",
   "pygments_lexer": "ipython3",
   "version": "3.9.7"
  }
 },
 "nbformat": 4,
 "nbformat_minor": 5
}
