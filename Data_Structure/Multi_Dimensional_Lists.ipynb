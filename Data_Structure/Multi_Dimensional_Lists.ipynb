{
 "cells": [
  {
   "cell_type": "markdown",
   "id": "2c3e0e71",
   "metadata": {},
   "source": [
    "# Multi Dimensional Lists"
   ]
  },
  {
   "cell_type": "markdown",
   "id": "c6aae088",
   "metadata": {},
   "source": [
    "### 1-D list"
   ]
  },
  {
   "cell_type": "code",
   "execution_count": 2,
   "id": "596595cd",
   "metadata": {},
   "outputs": [],
   "source": [
    "lst = [1,2,3,4]"
   ]
  },
  {
   "cell_type": "code",
   "execution_count": 8,
   "id": "21a37eed",
   "metadata": {},
   "outputs": [
    {
     "name": "stdout",
     "output_type": "stream",
     "text": [
      "3\n",
      "[3]\n"
     ]
    }
   ],
   "source": [
    "print(lst[2])\n",
    "print(lst[2:3])"
   ]
  },
  {
   "cell_type": "markdown",
   "id": "7710f657",
   "metadata": {},
   "source": [
    "### 2-D list"
   ]
  },
  {
   "cell_type": "code",
   "execution_count": 30,
   "id": "e32f964f",
   "metadata": {},
   "outputs": [
    {
     "name": "stdout",
     "output_type": "stream",
     "text": [
      "5\n",
      "[5]\n"
     ]
    }
   ],
   "source": [
    "lst=[[1,2,3],\n",
    "     [4,5,6],\n",
    "     [7,8,9]]\n",
    "\n",
    "print(lst[1][1])\n",
    "print(lst[1:2][0][1:2])\n"
   ]
  },
  {
   "cell_type": "markdown",
   "id": "f09a9e09",
   "metadata": {},
   "source": [
    "### 3-D list"
   ]
  },
  {
   "cell_type": "code",
   "execution_count": 38,
   "id": "c2e45fba",
   "metadata": {},
   "outputs": [
    {
     "name": "stdout",
     "output_type": "stream",
     "text": [
      "[1, 2, 3]\n",
      "[11, 22, 33]\n",
      "__________\n",
      "[4, 5, 6]\n",
      "[44, 55, 66]\n",
      "__________\n",
      "[7, 8, 9]\n",
      "[77, 88, 99]\n",
      "__________\n",
      "55\n"
     ]
    }
   ],
   "source": [
    "lst=[[[1,2,3],[11,22,33]],\n",
    "     [[4,5,6],[44,55,66]],\n",
    "    [[7,8,9],[77,88,99]]]\n",
    "\n",
    "\n",
    "for i in lst:\n",
    "    for j in i:\n",
    "        print(j)\n",
    "    print(\"__________\")\n",
    "    \n",
    "print(lst[1][1][1])"
   ]
  },
  {
   "cell_type": "markdown",
   "id": "5888d942",
   "metadata": {},
   "source": [
    "### Using as a Database"
   ]
  },
  {
   "cell_type": "code",
   "execution_count": 46,
   "id": "4d998b53",
   "metadata": {},
   "outputs": [
    {
     "name": "stdout",
     "output_type": "stream",
     "text": [
      "Enter the roll number: 1\n",
      "Roll : 1\n",
      "Name : Rahul\n",
      "math : 56\n",
      "Eng : 89\n",
      "Bio : 40\n",
      "Phy : 78\n"
     ]
    },
    {
     "data": {
      "text/plain": [
       "'\\ncalculate the average\\naverage >40 C  \\naverage >60 B\\naverage >75 A\\naverage >90 A+\\n'"
      ]
     },
     "execution_count": 46,
     "metadata": {},
     "output_type": "execute_result"
    }
   ],
   "source": [
    "add=[\"Roll\", \"Name\" ,\"math\", \"Eng\" ,\"Bio\" ,\"Phy\"]      \n",
    "data=[[1,\"Rahul\",56,89,40,78],\n",
    "     [2,\"Miraz\",65,73,81,68],\n",
    "     [3,\"Ani\",40,89,82,92]]\n",
    "\n",
    "r_nm=int(input(\"Enter the roll number: \"))\n",
    "for i in data:\n",
    "    if r_nm==i[0]:\n",
    "        for j in range(len(i)):\n",
    "            print(add[j],\":\",i[j])\n",
    "    \n",
    "\"\"\"\n",
    "calculate the average\n",
    "average >40 C  \n",
    "average >60 B\n",
    "average >75 A\n",
    "average >90 A+\n",
    "\"\"\""
   ]
  }
 ],
 "metadata": {
  "kernelspec": {
   "display_name": "Python 3 (ipykernel)",
   "language": "python",
   "name": "python3"
  },
  "language_info": {
   "codemirror_mode": {
    "name": "ipython",
    "version": 3
   },
   "file_extension": ".py",
   "mimetype": "text/x-python",
   "name": "python",
   "nbconvert_exporter": "python",
   "pygments_lexer": "ipython3",
   "version": "3.9.7"
  }
 },
 "nbformat": 4,
 "nbformat_minor": 5
}
